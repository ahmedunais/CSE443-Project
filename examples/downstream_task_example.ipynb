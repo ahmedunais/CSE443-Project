{
 "cells": [
  {
   "cell_type": "markdown",
   "id": "79e3921b",
   "metadata": {},
   "source": [
    "# Disease Prediction from Gene Expression (RNA-seq)\n",
    "\n",
    "This notebook demonstrates a simplified workflow for predicting cancer types from RNA-seq gene expression data.\n",
    "\n",
    "We use:\n",
    "- **Random Forest**\n",
    "- **Support Vector Machine (SVM)**\n",
    "- **Feed-forward Neural Network (MLP)**\n",
    "\n",
    "Dataset format:\n",
    "- Rows = samples\n",
    "- Columns = gene expression features (~19,000 genes)\n",
    "- One column `label` = cancer type\n"
   ]
  },
  {
   "cell_type": "code",
   "execution_count": null,
   "id": "9a91445f",
   "metadata": {},
   "outputs": [],
   "source": [
    "import pandas as pd\n",
    "import numpy as np\n",
    "from sklearn.model_selection import train_test_split, cross_val_score\n",
    "from sklearn.preprocessing import StandardScaler\n",
    "from sklearn.metrics import classification_report, confusion_matrix\n",
    "from sklearn.ensemble import RandomForestClassifier\n",
    "from sklearn.svm import SVC\n",
    "from sklearn.neural_network import MLPClassifier\n",
    "import matplotlib.pyplot as plt\n",
    "import seaborn as sns"
   ]
  },
  {
   "cell_type": "code",
   "execution_count": null,
   "id": "78961a86",
   "metadata": {},
   "outputs": [],
   "source": [
    "# Load your preprocessed dataset\n",
    "# Expecting a CSV with rows = samples, columns = genes + 'label'\n",
    "data = pd.read_csv(\"data/processed/tcga_processed.csv\")\n",
    "\n",
    "print(data.shape)\n",
    "data.head()"
   ]
  },
  {
   "cell_type": "code",
   "execution_count": null,
   "id": "0af464e6",
   "metadata": {},
   "outputs": [],
   "source": [
    "X = data.drop(columns=[\"label\"])\n",
    "y = data[\"label\"]\n",
    "\n",
    "# Scale features\n",
    "scaler = StandardScaler()\n",
    "X_scaled = scaler.fit_transform(X)\n",
    "\n",
    "# Train/test split\n",
    "X_train, X_test, y_train, y_test = train_test_split(X_scaled, y, test_size=0.2, stratify=y, random_state=42)"
   ]
  },
  {
   "cell_type": "code",
   "execution_count": null,
   "id": "28d76987",
   "metadata": {},
   "outputs": [],
   "source": [
    "rf = RandomForestClassifier(n_estimators=200, random_state=42)\n",
    "rf.fit(X_train, y_train)\n",
    "y_pred_rf = rf.predict(X_test)\n",
    "\n",
    "print(\"Random Forest Results:\")\n",
    "print(classification_report(y_test, y_pred_rf))"
   ]
  },
  {
   "cell_type": "code",
   "execution_count": null,
   "id": "efa9e9c3",
   "metadata": {},
   "outputs": [],
   "source": [
    "svm = SVC(kernel=\"rbf\", probability=True, random_state=42)\n",
    "svm.fit(X_train, y_train)\n",
    "y_pred_svm = svm.predict(X_test)\n",
    "\n",
    "print(\"SVM Results:\")\n",
    "print(classification_report(y_test, y_pred_svm))"
   ]
  },
  {
   "cell_type": "code",
   "execution_count": null,
   "id": "7370dc07",
   "metadata": {},
   "outputs": [],
   "source": [
    "mlp = MLPClassifier(hidden_layer_sizes=(128, 64), max_iter=50, random_state=42)\n",
    "mlp.fit(X_train, y_train)\n",
    "y_pred_mlp = mlp.predict(X_test)\n",
    "\n",
    "print(\"MLP Results:\")\n",
    "print(classification_report(y_test, y_pred_mlp))"
   ]
  },
  {
   "cell_type": "code",
   "execution_count": null,
   "id": "1e0ab59e",
   "metadata": {},
   "outputs": [],
   "source": [
    "fig, ax = plt.subplots(1, 3, figsize=(18,5))\n",
    "\n",
    "for i, (model_name, preds) in enumerate([(\"RF\", y_pred_rf), (\"SVM\", y_pred_svm), (\"MLP\", y_pred_mlp)]):\n",
    "    cm = confusion_matrix(y_test, preds)\n",
    "    sns.heatmap(cm, annot=False, cmap=\"Blues\", ax=ax[i])\n",
    "    ax[i].set_title(f\"{model_name} Confusion Matrix\")\n",
    "\n",
    "plt.show()"
   ]
  }
 ],
 "metadata": {},
 "nbformat": 4,
 "nbformat_minor": 5
}
